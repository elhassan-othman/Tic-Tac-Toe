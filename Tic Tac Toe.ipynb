{
 "cells": [
  {
   "cell_type": "markdown",
   "id": "52fac432",
   "metadata": {},
   "source": [
    "### Initialize the Board\n",
    "- create a 3 x 3 board represented by a list of lists"
   ]
  },
  {
   "cell_type": "code",
   "execution_count": 1,
   "id": "2c43de69",
   "metadata": {},
   "outputs": [],
   "source": [
    "def initialize_board():\n",
    "    return [[' ' for i in range(3)] for i in range(3)]\n",
    "# or we can use this\n",
    "'''\n",
    "def initialize_board():\n",
    "    board = []\n",
    "    for i in range(3):\n",
    "        row = [' ' for i in range(3)]\n",
    "        board.append(row)\n",
    "    return board\n",
    "'''\n",
    "\n",
    "board = initialize_board()"
   ]
  },
  {
   "cell_type": "code",
   "execution_count": null,
   "id": "824c7e05",
   "metadata": {},
   "outputs": [],
   "source": []
  },
  {
   "cell_type": "markdown",
   "id": "4b44f165",
   "metadata": {},
   "source": [
    "### Print board"
   ]
  },
  {
   "cell_type": "code",
   "execution_count": 2,
   "id": "84e602c3",
   "metadata": {},
   "outputs": [
    {
     "name": "stdout",
     "output_type": "stream",
     "text": [
      " | | \n",
      "------\n",
      " | | \n",
      "------\n",
      " | | \n",
      "------\n"
     ]
    }
   ],
   "source": [
    "def print_board(board):\n",
    "    for raw in board:\n",
    "        print(\"|\".join(raw))\n",
    "        print(\"--\"*3)\n",
    "print_board(board)"
   ]
  },
  {
   "cell_type": "code",
   "execution_count": null,
   "id": "397dcce7",
   "metadata": {},
   "outputs": [],
   "source": []
  },
  {
   "cell_type": "markdown",
   "id": "31d66033",
   "metadata": {},
   "source": [
    "## Check for a Winner\n",
    "- we need to examine all rows, columns, and diagonals."
   ]
  },
  {
   "cell_type": "code",
   "execution_count": 3,
   "id": "dccfc9fe",
   "metadata": {},
   "outputs": [],
   "source": [
    "def check_winner(board, player):\n",
    "    # Check rows\n",
    "    for row in board:\n",
    "        if all([cell == player for cell in row]):\n",
    "            return True\n",
    "\n",
    "    # Check columns\n",
    "    for col in range(3):\n",
    "        if all([board[row][col] == player for row in range(3)]):\n",
    "            return True\n",
    "\n",
    "    # Check diagonals\n",
    "    if all([board[i][i] == player for i in range(3)]) or all([board[i][2-i] == player for i in range(3)]):\n",
    "        return True\n",
    "\n",
    "    return False"
   ]
  },
  {
   "cell_type": "code",
   "execution_count": null,
   "id": "f33849b2",
   "metadata": {},
   "outputs": [],
   "source": []
  },
  {
   "cell_type": "markdown",
   "id": "9d9a8c4a",
   "metadata": {},
   "source": [
    "### Handle Player Moves\n",
    "- We need to handle player moves and ensure they are valid."
   ]
  },
  {
   "cell_type": "code",
   "execution_count": 4,
   "id": "bebee2ca",
   "metadata": {},
   "outputs": [],
   "source": [
    "def make_move(board,row,col,player):\n",
    "    if board[row][col] == ' ' :\n",
    "        board[row][col] = player \n",
    "        return True \n",
    "    else : \n",
    "        return False "
   ]
  },
  {
   "cell_type": "code",
   "execution_count": null,
   "id": "8a3fa9e9",
   "metadata": {},
   "outputs": [],
   "source": []
  },
  {
   "cell_type": "markdown",
   "id": "db7c6f78",
   "metadata": {},
   "source": [
    "### Main Game Loop"
   ]
  },
  {
   "cell_type": "code",
   "execution_count": 5,
   "id": "334f1806",
   "metadata": {},
   "outputs": [
    {
     "name": "stdout",
     "output_type": "stream",
     "text": [
      " | | \n",
      "------\n",
      " | | \n",
      "------\n",
      " | | \n",
      "------\n",
      "Player x, enter the row (0,1,2):0\n",
      "Player x, enter the column (0,1,2):1\n",
      " |x| \n",
      "------\n",
      " | | \n",
      "------\n",
      " | | \n",
      "------\n",
      "Player O, enter the row (0,1,2):2\n",
      "Player O, enter the column (0,1,2):1\n",
      " |x| \n",
      "------\n",
      " | | \n",
      "------\n",
      " |O| \n",
      "------\n",
      "Player x, enter the row (0,1,2):2\n",
      "Player x, enter the column (0,1,2):2\n",
      " |x| \n",
      "------\n",
      " | | \n",
      "------\n",
      " |O|x\n",
      "------\n",
      "Player O, enter the row (0,1,2):0\n",
      "Player O, enter the column (0,1,2):1\n",
      "invalid move plz try again\n",
      " |x| \n",
      "------\n",
      " | | \n",
      "------\n",
      " |O|x\n",
      "------\n",
      "Player O, enter the row (0,1,2):2\n",
      "Player O, enter the column (0,1,2):0\n",
      " |x| \n",
      "------\n",
      " | | \n",
      "------\n",
      "O|O|x\n",
      "------\n",
      "Player x, enter the row (0,1,2):0\n",
      "Player x, enter the column (0,1,2):0\n",
      "x|x| \n",
      "------\n",
      " | | \n",
      "------\n",
      "O|O|x\n",
      "------\n",
      "Player O, enter the row (0,1,2):0\n",
      "Player O, enter the column (0,1,2):1\n",
      "invalid move plz try again\n",
      "x|x| \n",
      "------\n",
      " | | \n",
      "------\n",
      "O|O|x\n",
      "------\n",
      "Player O, enter the row (0,1,2):2\n",
      "Player O, enter the column (0,1,2):0\n",
      "invalid move plz try again\n",
      "x|x| \n",
      "------\n",
      " | | \n",
      "------\n",
      "O|O|x\n",
      "------\n",
      "Player O, enter the row (0,1,2):2\n",
      "Player O, enter the column (0,1,2):0\n",
      "invalid move plz try again\n",
      "x|x| \n",
      "------\n",
      " | | \n",
      "------\n",
      "O|O|x\n",
      "------\n",
      "Player O, enter the row (0,1,2):0\n",
      "Player O, enter the column (0,1,2):2\n",
      "x|x|O\n",
      "------\n",
      " | | \n",
      "------\n",
      "O|O|x\n",
      "------\n",
      "Player x, enter the row (0,1,2):1\n",
      "Player x, enter the column (0,1,2):1\n",
      "x|x|O\n",
      "------\n",
      " |x| \n",
      "------\n",
      "O|O|x\n",
      "------\n",
      "Player x wins\n"
     ]
    }
   ],
   "source": [
    "def game():\n",
    "    board = initialize_board()\n",
    "    player = 'x'\n",
    "    moves = 0\n",
    "    \n",
    "    while moves < 9 :\n",
    "        print_board(board)\n",
    "        row = int(input(f'Player {player}, enter the row (0,1,2):'))\n",
    "        col = int(input(f'Player {player}, enter the column (0,1,2):'))\n",
    "        \n",
    "        if make_move(board,row,col,player):\n",
    "            if check_winner(board, player):\n",
    "                print_board(board)\n",
    "                print(f\"Player {player} wins\")\n",
    "                return \n",
    "            player = 'O' if player == 'x' else 'x'\n",
    "            moves += 1\n",
    "        else :\n",
    "            print(\"invalid move plz try again\")\n",
    "    \n",
    "    print_board(board)\n",
    "    print(\"It's a draw!\")\n",
    "\n",
    "game()"
   ]
  },
  {
   "cell_type": "code",
   "execution_count": null,
   "id": "0d577d53",
   "metadata": {},
   "outputs": [],
   "source": []
  }
 ],
 "metadata": {
  "kernelspec": {
   "display_name": "Python 3 (ipykernel)",
   "language": "python",
   "name": "python3"
  },
  "language_info": {
   "codemirror_mode": {
    "name": "ipython",
    "version": 3
   },
   "file_extension": ".py",
   "mimetype": "text/x-python",
   "name": "python",
   "nbconvert_exporter": "python",
   "pygments_lexer": "ipython3",
   "version": "3.11.8"
  }
 },
 "nbformat": 4,
 "nbformat_minor": 5
}
